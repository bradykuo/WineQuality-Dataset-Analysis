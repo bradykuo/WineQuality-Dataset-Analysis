{
  "cells": [
    {
      "cell_type": "markdown",
      "metadata": {
        "id": "view-in-github",
        "colab_type": "text"
      },
      "source": [
        "<a href=\"https://colab.research.google.com/github/bradykuo/clustering-and-classifying-the-wine-dataset/blob/main/wine_quality_analysis.ipynb\" target=\"_parent\"><img src=\"https://colab.research.google.com/assets/colab-badge.svg\" alt=\"Open In Colab\"/></a>"
      ]
    },
    {
      "cell_type": "code",
      "source": [
        "from google.colab import drive\n",
        "drive.mount('/content/drive')"
      ],
      "metadata": {
        "colab": {
          "base_uri": "https://localhost:8080/"
        },
        "id": "Y7stxU42hvvU",
        "outputId": "fd1ee092-6fa6-4f6c-a844-992c7ee13cc0"
      },
      "id": "Y7stxU42hvvU",
      "execution_count": 1,
      "outputs": [
        {
          "output_type": "stream",
          "name": "stdout",
          "text": [
            "Mounted at /content/drive\n"
          ]
        }
      ]
    },
    {
      "cell_type": "code",
      "execution_count": 2,
      "id": "82342363",
      "metadata": {
        "id": "82342363"
      },
      "outputs": [],
      "source": [
        "import sklearn\n",
        "import pandas as pd\n",
        "import matplotlib.pyplot as plt\n",
        "from sklearn.linear_model import LogisticRegression\n",
        "from sklearn.discriminant_analysis import LinearDiscriminantAnalysis\n",
        "from sklearn.discriminant_analysis import QuadraticDiscriminantAnalysis\n",
        "from sklearn.neighbors import KNeighborsClassifier\n",
        "from sklearn.ensemble import RandomForestClassifier\n",
        "from sklearn.model_selection import cross_val_score, KFold\n",
        "from sklearn.datasets import load_iris"
      ]
    },
    {
      "cell_type": "code",
      "source": [
        "# Load the winequality dataset\n",
        "url = 'winequality.csv'\n",
        "df = pd.read_csv(url)\n",
        "\n",
        "df.head(10)"
      ],
      "metadata": {
        "colab": {
          "base_uri": "https://localhost:8080/",
          "height": 543
        },
        "id": "oC7rQdztp8n4",
        "outputId": "0ed511f5-69ab-44a9-efbd-687445408879"
      },
      "id": "oC7rQdztp8n4",
      "execution_count": 4,
      "outputs": [
        {
          "output_type": "error",
          "ename": "ParserError",
          "evalue": "Error tokenizing data. C error: Expected 1 fields in line 42, saw 31\n",
          "traceback": [
            "\u001b[0;31m---------------------------------------------------------------------------\u001b[0m",
            "\u001b[0;31mParserError\u001b[0m                               Traceback (most recent call last)",
            "\u001b[0;32m<ipython-input-4-6346612def4d>\u001b[0m in \u001b[0;36m<cell line: 3>\u001b[0;34m()\u001b[0m\n\u001b[1;32m      1\u001b[0m \u001b[0;31m# Load the winequality dataset\u001b[0m\u001b[0;34m\u001b[0m\u001b[0;34m\u001b[0m\u001b[0m\n\u001b[1;32m      2\u001b[0m \u001b[0murl\u001b[0m \u001b[0;34m=\u001b[0m \u001b[0;34m'https://github.com/bradykuo/clustering-and-classifying-the-wine-dataset/blob/main/winequality.csv'\u001b[0m\u001b[0;34m\u001b[0m\u001b[0;34m\u001b[0m\u001b[0m\n\u001b[0;32m----> 3\u001b[0;31m \u001b[0mdf\u001b[0m \u001b[0;34m=\u001b[0m \u001b[0mpd\u001b[0m\u001b[0;34m.\u001b[0m\u001b[0mread_csv\u001b[0m\u001b[0;34m(\u001b[0m\u001b[0murl\u001b[0m\u001b[0;34m)\u001b[0m\u001b[0;34m\u001b[0m\u001b[0;34m\u001b[0m\u001b[0m\n\u001b[0m\u001b[1;32m      4\u001b[0m \u001b[0;34m\u001b[0m\u001b[0m\n\u001b[1;32m      5\u001b[0m \u001b[0mdf\u001b[0m\u001b[0;34m.\u001b[0m\u001b[0mhead\u001b[0m\u001b[0;34m(\u001b[0m\u001b[0;36m10\u001b[0m\u001b[0;34m)\u001b[0m\u001b[0;34m\u001b[0m\u001b[0;34m\u001b[0m\u001b[0m\n",
            "\u001b[0;32m/usr/local/lib/python3.10/dist-packages/pandas/io/parsers/readers.py\u001b[0m in \u001b[0;36mread_csv\u001b[0;34m(filepath_or_buffer, sep, delimiter, header, names, index_col, usecols, dtype, engine, converters, true_values, false_values, skipinitialspace, skiprows, skipfooter, nrows, na_values, keep_default_na, na_filter, verbose, skip_blank_lines, parse_dates, infer_datetime_format, keep_date_col, date_parser, date_format, dayfirst, cache_dates, iterator, chunksize, compression, thousands, decimal, lineterminator, quotechar, quoting, doublequote, escapechar, comment, encoding, encoding_errors, dialect, on_bad_lines, delim_whitespace, low_memory, memory_map, float_precision, storage_options, dtype_backend)\u001b[0m\n\u001b[1;32m   1024\u001b[0m     \u001b[0mkwds\u001b[0m\u001b[0;34m.\u001b[0m\u001b[0mupdate\u001b[0m\u001b[0;34m(\u001b[0m\u001b[0mkwds_defaults\u001b[0m\u001b[0;34m)\u001b[0m\u001b[0;34m\u001b[0m\u001b[0;34m\u001b[0m\u001b[0m\n\u001b[1;32m   1025\u001b[0m \u001b[0;34m\u001b[0m\u001b[0m\n\u001b[0;32m-> 1026\u001b[0;31m     \u001b[0;32mreturn\u001b[0m \u001b[0m_read\u001b[0m\u001b[0;34m(\u001b[0m\u001b[0mfilepath_or_buffer\u001b[0m\u001b[0;34m,\u001b[0m \u001b[0mkwds\u001b[0m\u001b[0;34m)\u001b[0m\u001b[0;34m\u001b[0m\u001b[0;34m\u001b[0m\u001b[0m\n\u001b[0m\u001b[1;32m   1027\u001b[0m \u001b[0;34m\u001b[0m\u001b[0m\n\u001b[1;32m   1028\u001b[0m \u001b[0;34m\u001b[0m\u001b[0m\n",
            "\u001b[0;32m/usr/local/lib/python3.10/dist-packages/pandas/io/parsers/readers.py\u001b[0m in \u001b[0;36m_read\u001b[0;34m(filepath_or_buffer, kwds)\u001b[0m\n\u001b[1;32m    624\u001b[0m \u001b[0;34m\u001b[0m\u001b[0m\n\u001b[1;32m    625\u001b[0m     \u001b[0;32mwith\u001b[0m \u001b[0mparser\u001b[0m\u001b[0;34m:\u001b[0m\u001b[0;34m\u001b[0m\u001b[0;34m\u001b[0m\u001b[0m\n\u001b[0;32m--> 626\u001b[0;31m         \u001b[0;32mreturn\u001b[0m \u001b[0mparser\u001b[0m\u001b[0;34m.\u001b[0m\u001b[0mread\u001b[0m\u001b[0;34m(\u001b[0m\u001b[0mnrows\u001b[0m\u001b[0;34m)\u001b[0m\u001b[0;34m\u001b[0m\u001b[0;34m\u001b[0m\u001b[0m\n\u001b[0m\u001b[1;32m    627\u001b[0m \u001b[0;34m\u001b[0m\u001b[0m\n\u001b[1;32m    628\u001b[0m \u001b[0;34m\u001b[0m\u001b[0m\n",
            "\u001b[0;32m/usr/local/lib/python3.10/dist-packages/pandas/io/parsers/readers.py\u001b[0m in \u001b[0;36mread\u001b[0;34m(self, nrows)\u001b[0m\n\u001b[1;32m   1921\u001b[0m                     \u001b[0mcolumns\u001b[0m\u001b[0;34m,\u001b[0m\u001b[0;34m\u001b[0m\u001b[0;34m\u001b[0m\u001b[0m\n\u001b[1;32m   1922\u001b[0m                     \u001b[0mcol_dict\u001b[0m\u001b[0;34m,\u001b[0m\u001b[0;34m\u001b[0m\u001b[0;34m\u001b[0m\u001b[0m\n\u001b[0;32m-> 1923\u001b[0;31m                 \u001b[0;34m)\u001b[0m \u001b[0;34m=\u001b[0m \u001b[0mself\u001b[0m\u001b[0;34m.\u001b[0m\u001b[0m_engine\u001b[0m\u001b[0;34m.\u001b[0m\u001b[0mread\u001b[0m\u001b[0;34m(\u001b[0m  \u001b[0;31m# type: ignore[attr-defined]\u001b[0m\u001b[0;34m\u001b[0m\u001b[0;34m\u001b[0m\u001b[0m\n\u001b[0m\u001b[1;32m   1924\u001b[0m                     \u001b[0mnrows\u001b[0m\u001b[0;34m\u001b[0m\u001b[0;34m\u001b[0m\u001b[0m\n\u001b[1;32m   1925\u001b[0m                 )\n",
            "\u001b[0;32m/usr/local/lib/python3.10/dist-packages/pandas/io/parsers/c_parser_wrapper.py\u001b[0m in \u001b[0;36mread\u001b[0;34m(self, nrows)\u001b[0m\n\u001b[1;32m    232\u001b[0m         \u001b[0;32mtry\u001b[0m\u001b[0;34m:\u001b[0m\u001b[0;34m\u001b[0m\u001b[0;34m\u001b[0m\u001b[0m\n\u001b[1;32m    233\u001b[0m             \u001b[0;32mif\u001b[0m \u001b[0mself\u001b[0m\u001b[0;34m.\u001b[0m\u001b[0mlow_memory\u001b[0m\u001b[0;34m:\u001b[0m\u001b[0;34m\u001b[0m\u001b[0;34m\u001b[0m\u001b[0m\n\u001b[0;32m--> 234\u001b[0;31m                 \u001b[0mchunks\u001b[0m \u001b[0;34m=\u001b[0m \u001b[0mself\u001b[0m\u001b[0;34m.\u001b[0m\u001b[0m_reader\u001b[0m\u001b[0;34m.\u001b[0m\u001b[0mread_low_memory\u001b[0m\u001b[0;34m(\u001b[0m\u001b[0mnrows\u001b[0m\u001b[0;34m)\u001b[0m\u001b[0;34m\u001b[0m\u001b[0;34m\u001b[0m\u001b[0m\n\u001b[0m\u001b[1;32m    235\u001b[0m                 \u001b[0;31m# destructive to chunks\u001b[0m\u001b[0;34m\u001b[0m\u001b[0;34m\u001b[0m\u001b[0m\n\u001b[1;32m    236\u001b[0m                 \u001b[0mdata\u001b[0m \u001b[0;34m=\u001b[0m \u001b[0m_concatenate_chunks\u001b[0m\u001b[0;34m(\u001b[0m\u001b[0mchunks\u001b[0m\u001b[0;34m)\u001b[0m\u001b[0;34m\u001b[0m\u001b[0;34m\u001b[0m\u001b[0m\n",
            "\u001b[0;32mparsers.pyx\u001b[0m in \u001b[0;36mpandas._libs.parsers.TextReader.read_low_memory\u001b[0;34m()\u001b[0m\n",
            "\u001b[0;32mparsers.pyx\u001b[0m in \u001b[0;36mpandas._libs.parsers.TextReader._read_rows\u001b[0;34m()\u001b[0m\n",
            "\u001b[0;32mparsers.pyx\u001b[0m in \u001b[0;36mpandas._libs.parsers.TextReader._tokenize_rows\u001b[0;34m()\u001b[0m\n",
            "\u001b[0;32mparsers.pyx\u001b[0m in \u001b[0;36mpandas._libs.parsers.TextReader._check_tokenize_status\u001b[0;34m()\u001b[0m\n",
            "\u001b[0;32mparsers.pyx\u001b[0m in \u001b[0;36mpandas._libs.parsers.raise_parser_error\u001b[0;34m()\u001b[0m\n",
            "\u001b[0;31mParserError\u001b[0m: Error tokenizing data. C error: Expected 1 fields in line 42, saw 31\n"
          ]
        }
      ]
    },
    {
      "cell_type": "code",
      "source": [
        "# Split the data into features (X) and target variable (y)\n",
        "X = df[['fixed acidity','volatile acidity','citric acid','residual sugar','chlorides','free sulfur dioxide','total sulfur dioxide','density','pH','sulphates','alcohol']]\n",
        "quality_mapping = { 3 : \"Low\",4 : \"Low\",5: \"Low\",6 : \"Medium\",7: \"High\",8 : \"High\",9 : \"High\"}\n",
        "y =  df['quality'].map(quality_mapping)\n",
        "\n",
        "# Define the counts for each quality level\n",
        "quality_counts = y.value_counts()\n",
        "\n",
        "# Create a bar plot\n",
        "plt.bar(quality_counts.index, quality_counts.values)\n",
        "\n",
        "# Set the title and axis labels\n",
        "plt.title('Red Wine Quality Distribution')\n",
        "plt.xlabel('Quality')\n",
        "plt.ylabel('Count')\n",
        "\n",
        "# Display the plot\n",
        "plt.show()"
      ],
      "metadata": {
        "id": "tJJY0QxwqVB3"
      },
      "id": "tJJY0QxwqVB3",
      "execution_count": null,
      "outputs": []
    },
    {
      "cell_type": "code",
      "execution_count": null,
      "id": "81b99736",
      "metadata": {
        "colab": {
          "base_uri": "https://localhost:8080/"
        },
        "id": "81b99736",
        "outputId": "3de00d2f-8700-4c67-fefd-9fc848e74e2d"
      },
      "outputs": [
        {
          "output_type": "stream",
          "name": "stderr",
          "text": [
            "/usr/local/lib/python3.10/dist-packages/sklearn/linear_model/_logistic.py:1256: FutureWarning: 'multi_class' was deprecated in version 1.5 and will be removed in 1.7. Use OneVsRestClassifier(LogisticRegression(..)) instead. Leave it to its default value to avoid this warning.\n",
            "  warnings.warn(\n",
            "/usr/local/lib/python3.10/dist-packages/sklearn/linear_model/_logistic.py:1256: FutureWarning: 'multi_class' was deprecated in version 1.5 and will be removed in 1.7. Use OneVsRestClassifier(LogisticRegression(..)) instead. Leave it to its default value to avoid this warning.\n",
            "  warnings.warn(\n",
            "/usr/local/lib/python3.10/dist-packages/sklearn/linear_model/_logistic.py:1256: FutureWarning: 'multi_class' was deprecated in version 1.5 and will be removed in 1.7. Use OneVsRestClassifier(LogisticRegression(..)) instead. Leave it to its default value to avoid this warning.\n",
            "  warnings.warn(\n"
          ]
        },
        {
          "output_type": "stream",
          "name": "stdout",
          "text": [
            "Accuracy scores for each fold:\n",
            " [0.58076923 0.57384615 0.58891455 0.56889915 0.54965358]\n",
            "\n",
            "Logistic Regression Mean accuracy score: 0.5724165334280807\n"
          ]
        },
        {
          "output_type": "stream",
          "name": "stderr",
          "text": [
            "/usr/local/lib/python3.10/dist-packages/sklearn/linear_model/_logistic.py:1256: FutureWarning: 'multi_class' was deprecated in version 1.5 and will be removed in 1.7. Use OneVsRestClassifier(LogisticRegression(..)) instead. Leave it to its default value to avoid this warning.\n",
            "  warnings.warn(\n",
            "/usr/local/lib/python3.10/dist-packages/sklearn/linear_model/_logistic.py:1256: FutureWarning: 'multi_class' was deprecated in version 1.5 and will be removed in 1.7. Use OneVsRestClassifier(LogisticRegression(..)) instead. Leave it to its default value to avoid this warning.\n",
            "  warnings.warn(\n"
          ]
        }
      ],
      "source": [
        "# Define the logistic regression model\n",
        "logreg = LogisticRegression(solver='liblinear', multi_class='ovr')\n",
        "\n",
        "# Define the number of folds for cross-validation\n",
        "n_folds = 5\n",
        "\n",
        "# Define the cross-validation method\n",
        "cv_method = KFold(n_splits=n_folds, shuffle=True, random_state=42)\n",
        "\n",
        "# Use cross-validation to evaluate the model\n",
        "scores = cross_val_score(logreg, X, y, cv=cv_method)\n",
        "\n",
        "# Print the accuracy scores for each fold\n",
        "print(\"Accuracy scores for each fold:\\n\", scores)\n",
        "\n",
        "# Calculate and print the mean accuracy score across all folds\n",
        "print(\"\\nLogistic Regression Mean accuracy score:\", scores.mean())"
      ]
    },
    {
      "cell_type": "code",
      "execution_count": null,
      "id": "c71dc112",
      "metadata": {
        "colab": {
          "base_uri": "https://localhost:8080/"
        },
        "id": "c71dc112",
        "outputId": "1043a772-708f-4aaf-b8a2-8e53e493eac6"
      },
      "outputs": [
        {
          "output_type": "stream",
          "name": "stdout",
          "text": [
            "Accuracy scores for each fold:\n",
            " [0.53384615 0.51461538 0.54811393 0.51501155 0.52270978]\n",
            "\n",
            "QDA Mean accuracy score: 0.5268593592704447\n"
          ]
        }
      ],
      "source": [
        "# Define the QDA model\n",
        "qda = QuadraticDiscriminantAnalysis()\n",
        "\n",
        "# Define the number of folds for cross-validation\n",
        "n_folds = 5\n",
        "\n",
        "# Define the cross-validation method\n",
        "cv_method = KFold(n_splits=n_folds, shuffle=True, random_state=42)\n",
        "\n",
        "# Use cross-validation to evaluate the model\n",
        "scores = cross_val_score(qda, X, y, cv=cv_method)\n",
        "\n",
        "# Print the accuracy scores for each fold\n",
        "print(\"Accuracy scores for each fold:\\n\", scores)\n",
        "\n",
        "# Calculate and print the mean accuracy score across all folds\n",
        "print(\"\\nQDA Mean accuracy score:\", scores.mean())"
      ]
    },
    {
      "cell_type": "code",
      "execution_count": null,
      "id": "8e25cd3c",
      "metadata": {
        "colab": {
          "base_uri": "https://localhost:8080/"
        },
        "id": "8e25cd3c",
        "outputId": "4632bd7f-e10c-41ce-cfca-202f045d52ce"
      },
      "outputs": [
        {
          "output_type": "stream",
          "name": "stdout",
          "text": [
            "Accuracy scores for each fold:\n",
            " [0.58       0.55615385 0.59969207 0.56428022 0.5704388 ]\n",
            "\n",
            "LDA Mean accuracy score: 0.5741129863208385\n"
          ]
        }
      ],
      "source": [
        "# Define the LDA model\n",
        "lda = LinearDiscriminantAnalysis()\n",
        "\n",
        "# Define the number of folds for cross-validation\n",
        "n_folds = 5\n",
        "\n",
        "# Define the cross-validation method\n",
        "cv_method = KFold(n_splits=n_folds, shuffle=True, random_state=42)\n",
        "\n",
        "# Use cross-validation to evaluate the model\n",
        "scores = cross_val_score(lda, X, y, cv=cv_method)\n",
        "\n",
        "# Print the accuracy scores for each fold\n",
        "print(\"Accuracy scores for each fold:\\n\", scores)\n",
        "\n",
        "# Calculate and print the mean accuracy score across all folds\n",
        "print(\"\\nLDA Mean accuracy score:\", scores.mean())"
      ]
    },
    {
      "cell_type": "code",
      "execution_count": null,
      "id": "5b466307",
      "metadata": {
        "colab": {
          "base_uri": "https://localhost:8080/"
        },
        "id": "5b466307",
        "outputId": "837606df-bdbd-4347-e977-3e337bd6a61f"
      },
      "outputs": [
        {
          "output_type": "stream",
          "name": "stdout",
          "text": [
            "Accuracy scores for each fold:\n",
            " [0.50230769 0.52923077 0.52809854 0.5134719  0.5134719 ]\n",
            "\n",
            "KNN Mean accuracy score: 0.5173161603600402\n"
          ]
        }
      ],
      "source": [
        "# Define the KNN model\n",
        "knn = KNeighborsClassifier(n_neighbors=5)\n",
        "\n",
        "# Define the number of folds for cross-validation\n",
        "n_folds = 5\n",
        "\n",
        "# Define the cross-validation method\n",
        "cv_method = KFold(n_splits=n_folds, shuffle=True, random_state=42)\n",
        "\n",
        "# Use cross-validation to evaluate the model\n",
        "scores = cross_val_score(knn, X, y, cv=cv_method)\n",
        "\n",
        "# Print the accuracy scores for each fold\n",
        "print(\"Accuracy scores for each fold:\\n\", scores)\n",
        "\n",
        "# Calculate and print the mean accuracy score across all folds\n",
        "print(\"\\nKNN Mean accuracy score:\", scores.mean())"
      ]
    },
    {
      "cell_type": "code",
      "execution_count": null,
      "id": "8888a7c1",
      "metadata": {
        "colab": {
          "base_uri": "https://localhost:8080/"
        },
        "id": "8888a7c1",
        "outputId": "ca67d499-0e29-408a-be24-fc3a0dba1239"
      },
      "outputs": [
        {
          "output_type": "stream",
          "name": "stdout",
          "text": [
            "Accuracy scores for each fold:\n",
            " [0.72       0.72076923 0.74903772 0.72671286 0.70361817]\n",
            "\n",
            "Random Forest Mean accuracy score: 0.7240275951915676\n"
          ]
        }
      ],
      "source": [
        "# Define the random forest model\n",
        "rf = RandomForestClassifier(n_estimators=100, random_state=42)\n",
        "\n",
        "# Define the number of folds for cross-validation\n",
        "n_folds = 5\n",
        "\n",
        "# Define the cross-validation method\n",
        "cv_method = KFold(n_splits=n_folds, shuffle=True, random_state=42)\n",
        "\n",
        "# Use cross-validation to evaluate the model\n",
        "scores = cross_val_score(rf, X, y, cv=cv_method)\n",
        "\n",
        "# Print the accuracy scores for each fold\n",
        "print(\"Accuracy scores for each fold:\\n\", scores)\n",
        "\n",
        "# Calculate and print the mean accuracy score across all folds\n",
        "print(\"\\nRandom Forest Mean accuracy score:\", scores.mean())"
      ]
    },
    {
      "cell_type": "code",
      "execution_count": null,
      "id": "66cc3bdb",
      "metadata": {
        "colab": {
          "base_uri": "https://localhost:8080/",
          "height": 472
        },
        "id": "66cc3bdb",
        "outputId": "a1663df6-43d3-41e7-84e1-96e0ec6318c7"
      },
      "outputs": [
        {
          "output_type": "display_data",
          "data": {
            "text/plain": [
              "<Figure size 640x480 with 1 Axes>"
            ],
            "image/png": "[encoded data removed]"
          },
          "metadata": {}
        }
      ],
      "source": [
        "# 設定 x 軸的標籤\n",
        "labels = ['Logistic Regression', 'KNN', 'LDA', 'QDA', 'Random Forest']\n",
        "\n",
        "# 設定 y 軸的數值\n",
        "values = [0.6179447492163008, 0.5234541536050157, 0.6285638714733544, 0.6022805642633229, 0.7254760971786833]\n",
        "\n",
        "# 設定長條圖的顏色和條寬\n",
        "colors = ['b', 'g', 'r', 'c', 'm']\n",
        "width = 0.5\n",
        "\n",
        "# 繪製長條圖\n",
        "plt.bar(labels, values, width=width, color=colors)\n",
        "\n",
        "# 設定圖表標題和 x 軸、y 軸的標籤\n",
        "plt.title('Red Wine Quality')\n",
        "plt.xlabel('Model')\n",
        "plt.ylabel('Accuracy')\n",
        "\n",
        "# 顯示圖表\n",
        "plt.show()"
      ]
    },
    {
      "cell_type": "code",
      "execution_count": null,
      "id": "d38cf6a9",
      "metadata": {
        "colab": {
          "base_uri": "https://localhost:8080/",
          "height": 472
        },
        "id": "d38cf6a9",
        "outputId": "2c6e73bc-beb4-46d1-975f-2b0d4377ca94"
      },
      "outputs": [
        {
          "output_type": "display_data",
          "data": {
            "text/plain": [
              "<Figure size 640x480 with 1 Axes>"
            ],
            "image/png": "[encoded data removed]"
          },
          "metadata": {}
        }
      ],
      "source": [
        "# Load the winequality dataset\n",
        "df = pd.read_csv('/content/drive/My Drive/Colab Notebooks/分類紅白酒/winequality-white.csv')\n",
        "\n",
        "# Split the data into features (X) and target variable (y)\n",
        "X = df[['fixed acidity','volatile acidity','citric acid','residual sugar','chlorides','free sulfur dioxide','total sulfur dioxide','density','pH','sulphates','alcohol']]\n",
        "quality_mapping = { 3 : \"Low\",4 : \"Low\",5: \"Low\",6 : \"Medium\",7: \"High\",8 : \"High\",9 : \"High\"}\n",
        "y =  df['quality'].map(quality_mapping)\n",
        "\n",
        "# Define the counts for each quality level\n",
        "quality_counts = y.value_counts()\n",
        "\n",
        "# Create a bar plot\n",
        "plt.bar(quality_counts.index, quality_counts.values)\n",
        "\n",
        "# Set the title and axis labels\n",
        "plt.title('White Wine Quality Distribution')\n",
        "plt.xlabel('Quality')\n",
        "plt.ylabel('Count')\n",
        "\n",
        "# Display the plot\n",
        "plt.show()"
      ]
    },
    {
      "cell_type": "code",
      "execution_count": null,
      "id": "dad875ff",
      "metadata": {
        "colab": {
          "base_uri": "https://localhost:8080/"
        },
        "id": "dad875ff",
        "outputId": "e6806d94-6b19-4eb0-a384-d74acdb9cb7f"
      },
      "outputs": [
        {
          "output_type": "stream",
          "name": "stderr",
          "text": [
            "/usr/local/lib/python3.10/dist-packages/sklearn/linear_model/_logistic.py:1256: FutureWarning: 'multi_class' was deprecated in version 1.5 and will be removed in 1.7. Use OneVsRestClassifier(LogisticRegression(..)) instead. Leave it to its default value to avoid this warning.\n",
            "  warnings.warn(\n",
            "/usr/local/lib/python3.10/dist-packages/sklearn/linear_model/_logistic.py:1256: FutureWarning: 'multi_class' was deprecated in version 1.5 and will be removed in 1.7. Use OneVsRestClassifier(LogisticRegression(..)) instead. Leave it to its default value to avoid this warning.\n",
            "  warnings.warn(\n",
            "/usr/local/lib/python3.10/dist-packages/sklearn/linear_model/_logistic.py:1256: FutureWarning: 'multi_class' was deprecated in version 1.5 and will be removed in 1.7. Use OneVsRestClassifier(LogisticRegression(..)) instead. Leave it to its default value to avoid this warning.\n",
            "  warnings.warn(\n",
            "/usr/local/lib/python3.10/dist-packages/sklearn/linear_model/_logistic.py:1256: FutureWarning: 'multi_class' was deprecated in version 1.5 and will be removed in 1.7. Use OneVsRestClassifier(LogisticRegression(..)) instead. Leave it to its default value to avoid this warning.\n",
            "  warnings.warn(\n"
          ]
        },
        {
          "output_type": "stream",
          "name": "stdout",
          "text": [
            "Accuracy scores for each fold:\n",
            " [0.54285714 0.57653061 0.55714286 0.59244127 0.57303371]\n",
            "\n",
            "Logistic Regression Mean accuracy score: 0.5684011173417273\n"
          ]
        },
        {
          "output_type": "stream",
          "name": "stderr",
          "text": [
            "/usr/local/lib/python3.10/dist-packages/sklearn/linear_model/_logistic.py:1256: FutureWarning: 'multi_class' was deprecated in version 1.5 and will be removed in 1.7. Use OneVsRestClassifier(LogisticRegression(..)) instead. Leave it to its default value to avoid this warning.\n",
            "  warnings.warn(\n"
          ]
        }
      ],
      "source": [
        "# Define the logistic regression model\n",
        "logreg = LogisticRegression(solver='liblinear', multi_class='ovr')\n",
        "\n",
        "# Define the number of folds for cross-validation\n",
        "n_folds = 5\n",
        "\n",
        "# Define the cross-validation method\n",
        "cv_method = KFold(n_splits=n_folds, shuffle=True, random_state=42)\n",
        "\n",
        "# Use cross-validation to evaluate the model\n",
        "scores = cross_val_score(logreg, X, y, cv=cv_method)\n",
        "\n",
        "# Print the accuracy scores for each fold\n",
        "print(\"Accuracy scores for each fold:\\n\", scores)\n",
        "\n",
        "# Calculate and print the mean accuracy score across all folds\n",
        "print(\"\\nLogistic Regression Mean accuracy score:\", scores.mean())"
      ]
    },
    {
      "cell_type": "code",
      "execution_count": null,
      "id": "f3437f15",
      "metadata": {
        "colab": {
          "base_uri": "https://localhost:8080/"
        },
        "id": "f3437f15",
        "outputId": "f6f9bed0-ecf2-4912-e678-f1a603aeb2e3"
      },
      "outputs": [
        {
          "output_type": "stream",
          "name": "stdout",
          "text": [
            "Accuracy scores for each fold:\n",
            " [0.53061224 0.50918367 0.53367347 0.5485189  0.52400409]\n",
            "\n",
            "QDA Mean accuracy score: 0.5291984740780888\n"
          ]
        }
      ],
      "source": [
        "# Define the QDA model\n",
        "qda = QuadraticDiscriminantAnalysis()\n",
        "\n",
        "# Define the number of folds for cross-validation\n",
        "n_folds = 5\n",
        "\n",
        "# Define the cross-validation method\n",
        "cv_method = KFold(n_splits=n_folds, shuffle=True, random_state=42)\n",
        "\n",
        "# Use cross-validation to evaluate the model\n",
        "scores = cross_val_score(qda, X, y, cv=cv_method)\n",
        "\n",
        "# Print the accuracy scores for each fold\n",
        "print(\"Accuracy scores for each fold:\\n\", scores)\n",
        "\n",
        "# Calculate and print the mean accuracy score across all folds\n",
        "print(\"\\nQDA Mean accuracy score:\", scores.mean())"
      ]
    },
    {
      "cell_type": "code",
      "execution_count": null,
      "id": "f37da369",
      "metadata": {
        "colab": {
          "base_uri": "https://localhost:8080/"
        },
        "id": "f37da369",
        "outputId": "50dffdff-0a72-4de0-f254-bc91ea5f08ba"
      },
      "outputs": [
        {
          "output_type": "stream",
          "name": "stdout",
          "text": [
            "Accuracy scores for each fold:\n",
            " [0.56428571 0.57142857 0.56020408 0.60163432 0.57814096]\n",
            "\n",
            "LDA Mean accuracy score: 0.575138729649163\n"
          ]
        }
      ],
      "source": [
        "# Define the LDA model\n",
        "lda = LinearDiscriminantAnalysis()\n",
        "\n",
        "# Define the number of folds for cross-validation\n",
        "n_folds = 5\n",
        "\n",
        "# Define the cross-validation method\n",
        "cv_method = KFold(n_splits=n_folds, shuffle=True, random_state=42)\n",
        "\n",
        "# Use cross-validation to evaluate the model\n",
        "scores = cross_val_score(lda, X, y, cv=cv_method)\n",
        "\n",
        "# Print the accuracy scores for each fold\n",
        "print(\"Accuracy scores for each fold:\\n\", scores)\n",
        "\n",
        "# Calculate and print the mean accuracy score across all folds\n",
        "print(\"\\nLDA Mean accuracy score:\", scores.mean())"
      ]
    },
    {
      "cell_type": "code",
      "execution_count": null,
      "id": "2e0ffe6a",
      "metadata": {
        "colab": {
          "base_uri": "https://localhost:8080/"
        },
        "id": "2e0ffe6a",
        "outputId": "e6681c8f-acf4-4cfa-e4bd-3b336b9a32cf"
      },
      "outputs": [
        {
          "output_type": "stream",
          "name": "stdout",
          "text": [
            "Accuracy scores for each fold:\n",
            " [0.52244898 0.5255102  0.49897959 0.50970378 0.49744637]\n",
            "\n",
            "KNN Mean accuracy score: 0.5108177857455545\n"
          ]
        }
      ],
      "source": [
        "# Define the KNN model\n",
        "knn = KNeighborsClassifier(n_neighbors=5)\n",
        "\n",
        "# Define the number of folds for cross-validation\n",
        "n_folds = 5\n",
        "\n",
        "# Define the cross-validation method\n",
        "cv_method = KFold(n_splits=n_folds, shuffle=True, random_state=42)\n",
        "\n",
        "# Use cross-validation to evaluate the model\n",
        "scores = cross_val_score(knn, X, y, cv=cv_method)\n",
        "\n",
        "# Print the accuracy scores for each fold\n",
        "print(\"Accuracy scores for each fold:\\n\", scores)\n",
        "\n",
        "# Calculate and print the mean accuracy score across all folds\n",
        "print(\"\\nKNN Mean accuracy score:\", scores.mean())"
      ]
    },
    {
      "cell_type": "code",
      "execution_count": null,
      "id": "3e039301",
      "metadata": {
        "colab": {
          "base_uri": "https://localhost:8080/"
        },
        "id": "3e039301",
        "outputId": "28a1da10-834b-48eb-8e6e-1c5e50b28c91"
      },
      "outputs": [
        {
          "output_type": "stream",
          "name": "stdout",
          "text": [
            "Accuracy scores for each fold:\n",
            " [0.73571429 0.7255102  0.72346939 0.74463739 0.70480082]\n",
            "\n",
            "Random Forest Mean accuracy score: 0.7268264159596424\n"
          ]
        }
      ],
      "source": [
        "# Define the random forest model\n",
        "rf = RandomForestClassifier(n_estimators=100, random_state=42)\n",
        "\n",
        "# Define the number of folds for cross-validation\n",
        "n_folds = 5\n",
        "\n",
        "# Define the cross-validation method\n",
        "cv_method = KFold(n_splits=n_folds, shuffle=True, random_state=42)\n",
        "\n",
        "# Use cross-validation to evaluate the model\n",
        "scores = cross_val_score(rf, X, y, cv=cv_method)\n",
        "\n",
        "# Print the accuracy scores for each fold\n",
        "print(\"Accuracy scores for each fold:\\n\", scores)\n",
        "\n",
        "# Calculate and print the mean accuracy score across all folds\n",
        "print(\"\\nRandom Forest Mean accuracy score:\", scores.mean())"
      ]
    },
    {
      "cell_type": "code",
      "execution_count": null,
      "id": "97559a4a",
      "metadata": {
        "colab": {
          "base_uri": "https://localhost:8080/",
          "height": 472
        },
        "id": "97559a4a",
        "outputId": "83253324-7bae-42fc-b3ce-976a5696bfb8"
      },
      "outputs": [
        {
          "output_type": "display_data",
          "data": {
            "text/plain": [
              "<Figure size 640x480 with 1 Axes>"
            ],
            "image/png": "[encoded data removed]"
          },
          "metadata": {}
        }
      ],
      "source": [
        "# 設定 x 軸的標籤\n",
        "labels = ['Logistic Regression', 'KNN', 'LDA', 'QDA', 'Random Forest']\n",
        "\n",
        "# 設定 y 軸的數值\n",
        "values = [0.5677888724437681, 0.5108177857455545, 0.575138729649163, 0.5291984740780888, 0.7268264159596424]\n",
        "\n",
        "# 設定長條圖的顏色和條寬\n",
        "colors = ['b', 'g', 'r', 'c', 'm']\n",
        "width = 0.5\n",
        "\n",
        "# 繪製長條圖\n",
        "plt.bar(labels, values, width=width, color=colors)\n",
        "\n",
        "# 設定圖表標題和 x 軸、y 軸的標籤\n",
        "plt.title('White Wine Quality')\n",
        "plt.xlabel('Model')\n",
        "plt.ylabel('Accuracy')\n",
        "\n",
        "# 顯示圖表\n",
        "plt.show()"
      ]
    },
    {
      "cell_type": "code",
      "execution_count": null,
      "id": "589cf97e",
      "metadata": {
        "colab": {
          "base_uri": "https://localhost:8080/",
          "height": 472
        },
        "id": "589cf97e",
        "outputId": "50d0ce1c-b0d0-4a3b-c724-63ecfdd0ea11"
      },
      "outputs": [
        {
          "output_type": "display_data",
          "data": {
            "text/plain": [
              "<Figure size 640x480 with 1 Axes>"
            ],
            "image/png": "[encoded data removed]"
          },
          "metadata": {}
        }
      ],
      "source": [
        "# Load the winequality dataset\n",
        "df = pd.read_csv('/content/drive/My Drive/Colab Notebooks/分類紅白酒/winequality.csv')\n",
        "\n",
        "# Split the data into features (X) and target variable (y)\n",
        "X = df[['fixed acidity','volatile acidity','citric acid','residual sugar','chlorides','free sulfur dioxide','total sulfur dioxide','density','pH','sulphates','alcohol']]\n",
        "type_mapping = { 'red' : 0,'white' : 1}\n",
        "y =  df['type'].map(type_mapping)\n",
        "\n",
        "# Define the counts for each quality level\n",
        "quality_counts = y.value_counts()\n",
        "\n",
        "# Create a bar plot\n",
        "plt.bar(quality_counts.index, quality_counts.values)\n",
        "\n",
        "# Set the title and axis labels\n",
        "plt.title('Wine Type Distribution')\n",
        "plt.xlabel('Type')\n",
        "plt.ylabel('Count')\n",
        "\n",
        "# Display the plot\n",
        "plt.show()"
      ]
    },
    {
      "cell_type": "code",
      "execution_count": null,
      "id": "d9382289",
      "metadata": {
        "colab": {
          "base_uri": "https://localhost:8080/"
        },
        "id": "d9382289",
        "outputId": "504292aa-c712-4819-8f65-da7f8d4b6835"
      },
      "outputs": [
        {
          "output_type": "stream",
          "name": "stderr",
          "text": [
            "/usr/local/lib/python3.10/dist-packages/sklearn/linear_model/_logistic.py:1256: FutureWarning: 'multi_class' was deprecated in version 1.5 and will be removed in 1.7. Use OneVsRestClassifier(LogisticRegression(..)) instead. Leave it to its default value to avoid this warning.\n",
            "  warnings.warn(\n",
            "/usr/local/lib/python3.10/dist-packages/sklearn/linear_model/_logistic.py:1256: FutureWarning: 'multi_class' was deprecated in version 1.5 and will be removed in 1.7. Use OneVsRestClassifier(LogisticRegression(..)) instead. Leave it to its default value to avoid this warning.\n",
            "  warnings.warn(\n",
            "/usr/local/lib/python3.10/dist-packages/sklearn/linear_model/_logistic.py:1256: FutureWarning: 'multi_class' was deprecated in version 1.5 and will be removed in 1.7. Use OneVsRestClassifier(LogisticRegression(..)) instead. Leave it to its default value to avoid this warning.\n",
            "  warnings.warn(\n",
            "/usr/local/lib/python3.10/dist-packages/sklearn/linear_model/_logistic.py:1256: FutureWarning: 'multi_class' was deprecated in version 1.5 and will be removed in 1.7. Use OneVsRestClassifier(LogisticRegression(..)) instead. Leave it to its default value to avoid this warning.\n",
            "  warnings.warn(\n",
            "/usr/local/lib/python3.10/dist-packages/sklearn/linear_model/_logistic.py:1256: FutureWarning: 'multi_class' was deprecated in version 1.5 and will be removed in 1.7. Use OneVsRestClassifier(LogisticRegression(..)) instead. Leave it to its default value to avoid this warning.\n",
            "  warnings.warn(\n"
          ]
        },
        {
          "output_type": "stream",
          "name": "stdout",
          "text": [
            "Accuracy scores for each fold:\n",
            " [0.97461538 0.98615385 0.97690531 0.98691301 0.9830639 ]\n",
            "\n",
            "Mean accuracy score: 0.9815302895718601\n"
          ]
        }
      ],
      "source": [
        "# Define the logistic regression model\n",
        "logreg = LogisticRegression(solver='liblinear', multi_class='ovr')\n",
        "\n",
        "# Define the number of folds for cross-validation\n",
        "n_folds = 5\n",
        "\n",
        "# Define the cross-validation method\n",
        "cv_method = KFold(n_splits=n_folds, shuffle=True, random_state=42)\n",
        "\n",
        "# Use cross-validation to evaluate the model\n",
        "scores = cross_val_score(logreg, X, y, cv=cv_method)\n",
        "\n",
        "# Print the accuracy scores for each fold\n",
        "print(\"Accuracy scores for each fold:\\n\", scores)\n",
        "\n",
        "# Calculate and print the mean accuracy score across all folds\n",
        "print(\"\\nMean accuracy score:\", scores.mean())"
      ]
    },
    {
      "cell_type": "code",
      "execution_count": null,
      "id": "034de8aa",
      "metadata": {
        "colab": {
          "base_uri": "https://localhost:8080/"
        },
        "id": "034de8aa",
        "outputId": "14daa0e1-e0b4-4cfa-9822-f84f3e979fc6"
      },
      "outputs": [
        {
          "output_type": "stream",
          "name": "stdout",
          "text": [
            "Accuracy scores for each fold:\n",
            " [0.98538462 0.98769231 0.9830639  0.98460354 0.98537336]\n",
            "\n",
            "Mean accuracy score: 0.9852235447385563\n"
          ]
        }
      ],
      "source": [
        "# Define the QDA model\n",
        "qda = QuadraticDiscriminantAnalysis()\n",
        "\n",
        "# Define the number of folds for cross-validation\n",
        "n_folds = 5\n",
        "\n",
        "# Define the cross-validation method\n",
        "cv_method = KFold(n_splits=n_folds, shuffle=True, random_state=42)\n",
        "\n",
        "# Use cross-validation to evaluate the model\n",
        "scores = cross_val_score(qda, X, y, cv=cv_method)\n",
        "\n",
        "# Print the accuracy scores for each fold\n",
        "print(\"Accuracy scores for each fold:\\n\", scores)\n",
        "\n",
        "# Calculate and print the mean accuracy score across all folds\n",
        "print(\"\\nMean accuracy score:\", scores.mean())"
      ]
    },
    {
      "cell_type": "code",
      "execution_count": null,
      "id": "afc91bff",
      "metadata": {
        "colab": {
          "base_uri": "https://localhost:8080/"
        },
        "id": "afc91bff",
        "outputId": "91167f23-a96d-40d9-f753-c47b77dc5ff8"
      },
      "outputs": [
        {
          "output_type": "stream",
          "name": "stdout",
          "text": [
            "Accuracy scores for each fold:\n",
            " [0.99384615 0.99615385 0.99461124 0.99615089 0.99230177]\n",
            "\n",
            "Mean accuracy score: 0.9946127790608159\n"
          ]
        }
      ],
      "source": [
        "# Define the LDA model\n",
        "lda = LinearDiscriminantAnalysis()\n",
        "\n",
        "# Define the number of folds for cross-validation\n",
        "n_folds = 5\n",
        "\n",
        "# Define the cross-validation method\n",
        "cv_method = KFold(n_splits=n_folds, shuffle=True, random_state=42)\n",
        "\n",
        "# Use cross-validation to evaluate the model\n",
        "scores = cross_val_score(lda, X, y, cv=cv_method)\n",
        "\n",
        "# Print the accuracy scores for each fold\n",
        "print(\"Accuracy scores for each fold:\\n\", scores)\n",
        "\n",
        "# Calculate and print the mean accuracy score across all folds\n",
        "print(\"\\nMean accuracy score:\", scores.mean())"
      ]
    },
    {
      "cell_type": "code",
      "execution_count": null,
      "id": "16bac771",
      "metadata": {
        "colab": {
          "base_uri": "https://localhost:8080/"
        },
        "id": "16bac771",
        "outputId": "de3a3d41-eaec-49e7-c0f5-866b9ed39592"
      },
      "outputs": [
        {
          "output_type": "stream",
          "name": "stdout",
          "text": [
            "Accuracy scores for each fold:\n",
            " [0.93615385 0.94153846 0.93148576 0.95150115 0.94842186]\n",
            "\n",
            "Mean accuracy score: 0.9418202167347663\n"
          ]
        }
      ],
      "source": [
        "# Define the KNN model\n",
        "knn = KNeighborsClassifier(n_neighbors=5)\n",
        "\n",
        "# Define the number of folds for cross-validation\n",
        "n_folds = 5\n",
        "\n",
        "# Define the cross-validation method\n",
        "cv_method = KFold(n_splits=n_folds, shuffle=True, random_state=42)\n",
        "\n",
        "# Use cross-validation to evaluate the model\n",
        "scores = cross_val_score(knn, X, y, cv=cv_method)\n",
        "\n",
        "# Print the accuracy scores for each fold\n",
        "print(\"Accuracy scores for each fold:\\n\", scores)\n",
        "\n",
        "# Calculate and print the mean accuracy score across all folds\n",
        "print(\"\\nMean accuracy score:\", scores.mean())"
      ]
    },
    {
      "cell_type": "code",
      "execution_count": null,
      "id": "faaca788",
      "metadata": {
        "colab": {
          "base_uri": "https://localhost:8080/"
        },
        "id": "faaca788",
        "outputId": "37f5749d-384c-4e74-a7cb-3c6b9a35b9ad"
      },
      "outputs": [
        {
          "output_type": "stream",
          "name": "stdout",
          "text": [
            "Accuracy scores for each fold:\n",
            " [0.99692308 0.99384615 0.99538106 0.99692071 0.99384142]\n",
            "\n",
            "Mean accuracy score: 0.995382483567241\n"
          ]
        }
      ],
      "source": [
        "# Define the random forest model\n",
        "rf = RandomForestClassifier(n_estimators=100, random_state=42)\n",
        "\n",
        "# Define the number of folds for cross-validation\n",
        "n_folds = 5\n",
        "\n",
        "# Define the cross-validation method\n",
        "cv_method = KFold(n_splits=n_folds, shuffle=True, random_state=42)\n",
        "\n",
        "# Use cross-validation to evaluate the model\n",
        "scores = cross_val_score(rf, X, y, cv=cv_method)\n",
        "\n",
        "# Print the accuracy scores for each fold\n",
        "print(\"Accuracy scores for each fold:\\n\", scores)\n",
        "\n",
        "# Calculate and print the mean accuracy score across all folds\n",
        "print(\"\\nMean accuracy score:\", scores.mean())"
      ]
    },
    {
      "cell_type": "code",
      "execution_count": null,
      "id": "68849a21",
      "metadata": {
        "colab": {
          "base_uri": "https://localhost:8080/",
          "height": 472
        },
        "id": "68849a21",
        "outputId": "cbd028b9-916c-41ef-83ca-36da65e92681"
      },
      "outputs": [
        {
          "output_type": "display_data",
          "data": {
            "text/plain": [
              "<Figure size 640x480 with 1 Axes>"
            ],
            "image/png": "[encoded data removed]"
          },
          "metadata": {}
        }
      ],
      "source": [
        "# 設定 x 軸的標籤\n",
        "labels = ['Logistic Regression', 'KNN', 'LDA', 'QDA', 'Random Forest']\n",
        "\n",
        "# 設定 y 軸的數值\n",
        "values = [0.9813763249837153, 0.9418202167347663, 0.9946127790608159, 0.9852235447385563, 0.995382483567241]\n",
        "\n",
        "# 設定長條圖的顏色和條寬\n",
        "colors = ['b', 'g', 'r', 'c', 'm']\n",
        "width = 0.5\n",
        "\n",
        "# 繪製長條圖\n",
        "plt.bar(labels, values, width=width, color=colors)\n",
        "\n",
        "# 設定圖表標題和 x 軸、y 軸的標籤\n",
        "plt.title('Wine Type')\n",
        "plt.xlabel('Model')\n",
        "plt.ylabel('Accuracy')\n",
        "\n",
        "# 顯示圖表\n",
        "plt.show()"
      ]
    },
    {
      "cell_type": "code",
      "execution_count": null,
      "id": "b9478e5e",
      "metadata": {
        "id": "b9478e5e"
      },
      "outputs": [],
      "source": []
    }
  ],
  "metadata": {
    "kernelspec": {
      "display_name": "Python 3",
      "name": "python3"
    },
    "language_info": {
      "codemirror_mode": {
        "name": "ipython",
        "version": 3
      },
      "file_extension": ".py",
      "mimetype": "text/x-python",
      "name": "python",
      "nbconvert_exporter": "python",
      "pygments_lexer": "ipython3",
      "version": "3.10.0"
    },
    "colab": {
      "provenance": [],
      "gpuType": "T4",
      "include_colab_link": true
    },
    "accelerator": "GPU"
  },
  "nbformat": 4,
  "nbformat_minor": 5
}